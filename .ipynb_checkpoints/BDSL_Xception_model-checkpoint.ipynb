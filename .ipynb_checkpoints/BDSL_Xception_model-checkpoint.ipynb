{
 "cells": [
  {
   "cell_type": "code",
   "execution_count": 1,
   "id": "b7f287c5-30f7-4606-8d48-fa796d77faa1",
   "metadata": {},
   "outputs": [
    {
     "name": "stdout",
     "output_type": "stream",
     "text": [
      "tf version 2.8.0\n",
      "keras version 2.8.0\n",
      "gpu is  available\n"
     ]
    }
   ],
   "source": [
    "# importing libraries \n",
    "from tensorflow.keras.preprocessing.image import ImageDataGenerator \n",
    "from tensorflow.keras.models import Sequential, save_model, load_model\n",
    "import numpy as np\n",
    "from tensorflow.keras.callbacks import TensorBoard\n",
    "import time\n",
    "import matplotlib.pyplot as plt\n",
    "import datetime\n",
    "import cv2\n",
    "import os\n",
    "import tensorflow as tf\n",
    "import tensorflow.keras\n",
    "import cv2\n",
    "from sklearn.model_selection import train_test_split\n",
    "import matplotlib.pyplot as plt\n",
    "from sklearn.metrics import confusion_matrix\n",
    "import seaborn as sns\n",
    "import matplotlib.pyplot as plt\n",
    "from sklearn.metrics import classification_report\n",
    "\n",
    "import tensorflow as tf\n",
    "from keras.utils import np_utils\n",
    "from tensorflow.keras import applications\n",
    "import cv2 \n",
    "from os import listdir\n",
    "import numpy as np\n",
    "from tensorflow.keras.models import Sequential\n",
    "from tensorflow.keras.layers import Input\n",
    "from tensorflow.keras.layers import Dense, Conv2D, MaxPooling2D, Dropout, Flatten, Activation, AveragePooling2D,BatchNormalization\n",
    "from tensorflow.keras.models import Model\n",
    "import pywt\n",
    "import numpy as np\n",
    "import pandas as pd\n",
    "import matplotlib.pyplot as plt\n",
    "import plotly.graph_objects as go\n",
    "import plotly.express as px\n",
    "import random\n",
    "import seaborn as sns\n",
    "import cv2\n",
    "import os\n",
    "\n",
    "from pathlib import Path\n",
    "from tensorflow.keras.utils import to_categorical\n",
    "from collections import Counter\n",
    "from plotly.subplots import make_subplots\n",
    "from tensorflow.keras.layers.experimental import preprocessing as ps\n",
    "from tensorflow.keras.callbacks import EarlyStopping\n",
    "from sklearn.model_selection import train_test_split\n",
    "from sklearn.metrics import confusion_matrix\n",
    "import pickle\n",
    "import glob\n",
    "print('tf version', tf.__version__)\n",
    "print('keras version', tf.keras.__version__)\n",
    "print('gpu is ','available' if tf.config.list_physical_devices('GPU') else 'not available')"
   ]
  },
  {
   "cell_type": "code",
   "execution_count": 2,
   "id": "6fae2ddd-7651-441e-a617-f567a66bd831",
   "metadata": {},
   "outputs": [],
   "source": [
    "file = open('X_train_80.pkl', 'rb')\n",
    "X_train = pickle.load(file)\n",
    "\n",
    "file = open('y_train_80.pkl', 'rb')\n",
    "y_train = pickle.load(file)\n",
    "\n",
    "file = open('X_test_80.pkl', 'rb')\n",
    "X_test = pickle.load(file)\n",
    "\n",
    "file = open('y_test_80.pkl', 'rb')\n",
    "y_test = pickle.load(file)"
   ]
  },
  {
   "cell_type": "code",
   "execution_count": 3,
   "id": "b5d82076-6bc8-444b-b3db-f2ff0441764c",
   "metadata": {},
   "outputs": [
    {
     "name": "stdout",
     "output_type": "stream",
     "text": [
      "(11774, 80, 80, 3)\n",
      "(11774, 49)\n",
      "(2940, 80, 80, 3)\n",
      "(2940, 49)\n"
     ]
    }
   ],
   "source": [
    "print(X_train.shape)\n",
    "print(y_train.shape)\n",
    "print(X_test.shape)\n",
    "print(y_test.shape)"
   ]
  },
  {
   "cell_type": "markdown",
   "id": "fac33e95-e9ef-4ea1-a936-b9faf6ce5d12",
   "metadata": {
    "tags": []
   },
   "source": [
    "# Xception Model"
   ]
  },
  {
   "cell_type": "code",
   "execution_count": 4,
   "id": "c958f4df-c876-4490-9300-8a3f799bbbf8",
   "metadata": {},
   "outputs": [],
   "source": [
    "base_model = tf.keras.applications.Xception(\n",
    "    include_top=False,\n",
    "    weights=\"imagenet\",\n",
    "    input_shape=(80, 80, 3),\n",
    "    pooling='max',\n",
    "    classes=49,\n",
    "    classifier_activation=\"softmax\",\n",
    ")\n",
    "\n",
    "#base_model.trainable = False"
   ]
  },
  {
   "cell_type": "code",
   "execution_count": 5,
   "id": "fcc05389-43cf-4150-b4a4-faa4d3e24fc4",
   "metadata": {},
   "outputs": [],
   "source": [
    "num_of_class = 49\n",
    "epoch = 30\n",
    "\n",
    "model = Sequential()\n",
    "model.add(base_model)\n",
    "model.add(Dense(128,activation='relu'))\n",
    "model.add(Dense(64,activation='relu'))\n",
    "model.add(Dropout(0.5))\n",
    "model.add(Dense(num_of_class, activation='softmax'))\n",
    "\n",
    "model.compile(loss ='categorical_crossentropy', optimizer ='adam', metrics =['accuracy'])"
   ]
  },
  {
   "cell_type": "code",
   "execution_count": 6,
   "id": "9b0019c4-9e05-4b08-a732-0e9ac426135f",
   "metadata": {},
   "outputs": [
    {
     "name": "stdout",
     "output_type": "stream",
     "text": [
      "Model: \"sequential\"\n",
      "_________________________________________________________________\n",
      " Layer (type)                Output Shape              Param #   \n",
      "=================================================================\n",
      " xception (Functional)       (None, 2048)              20861480  \n",
      "                                                                 \n",
      " dense (Dense)               (None, 128)               262272    \n",
      "                                                                 \n",
      " dense_1 (Dense)             (None, 64)                8256      \n",
      "                                                                 \n",
      " dropout (Dropout)           (None, 64)                0         \n",
      "                                                                 \n",
      " dense_2 (Dense)             (None, 49)                3185      \n",
      "                                                                 \n",
      "=================================================================\n",
      "Total params: 21,135,193\n",
      "Trainable params: 21,080,665\n",
      "Non-trainable params: 54,528\n",
      "_________________________________________________________________\n"
     ]
    }
   ],
   "source": [
    "model.summary()"
   ]
  },
  {
   "cell_type": "code",
   "execution_count": null,
   "id": "87a04035-8853-4b65-a52e-559bf1f24d74",
   "metadata": {},
   "outputs": [
    {
     "name": "stdout",
     "output_type": "stream",
     "text": [
      "Epoch 1/30\n",
      "113/203 [===============>..............] - ETA: 13s - loss: 3.2497 - accuracy: 0.1692"
     ]
    }
   ],
   "source": [
    "H = model.fit(\n",
    "    x=X_train,\n",
    "    y=y_train,\n",
    "    batch_size=58,\n",
    "    epochs=epoch,\n",
    "    validation_data=(X_test, y_test))"
   ]
  },
  {
   "cell_type": "markdown",
   "id": "2083c548-1314-41c3-9cf9-6f29d223a20c",
   "metadata": {},
   "source": [
    "### Xception Model Accuracy and loss visualization"
   ]
  },
  {
   "cell_type": "code",
   "execution_count": null,
   "id": "d237fcc4-87e8-4190-9e70-8fbddb1742af",
   "metadata": {},
   "outputs": [],
   "source": [
    "# Plot training & validation accuracy values\n",
    "fig, ax = plt.subplots(1,1)\n",
    "plt.plot(H.history[\"accuracy\"])\n",
    "plt.plot(H.history['val_accuracy'])\n",
    "plt.title('Model accuracy')\n",
    "plt.ylabel('Accuracy')\n",
    "plt.xlabel('Epoch')\n",
    "plt.legend(['Train', 'Test'], loc='upper left')\n",
    "plt.show()"
   ]
  },
  {
   "cell_type": "code",
   "execution_count": null,
   "id": "98af5be6-2698-4d2d-b1b1-1048164ad018",
   "metadata": {},
   "outputs": [],
   "source": [
    "# Plot training & validation loss values\n",
    "fig, ax = plt.subplots(1,1)\n",
    "plt.plot(H.history['loss'])\n",
    "plt.plot(H.history['val_loss'])\n",
    "plt.title('Model loss')\n",
    "plt.ylabel('Loss')\n",
    "plt.xlabel('Epoch')\n",
    "plt.legend(['Train', 'Test'], loc='upper left')\n",
    "plt.show()"
   ]
  },
  {
   "cell_type": "markdown",
   "id": "242913c1-542c-47ef-be2b-ed563197ec73",
   "metadata": {},
   "source": [
    "### Model evaluation with classification report and confusion matrix"
   ]
  },
  {
   "cell_type": "code",
   "execution_count": null,
   "id": "73cc634d-1380-45fa-8e96-b448c90c4e22",
   "metadata": {},
   "outputs": [],
   "source": [
    "y_pred = np.argmax(model.predict(X_test,batch_size=1), axis=1) \n",
    "\n",
    "print('Classification Report')\n",
    "y_classes = [np.argmax(y, axis=None, out=None) for y in y_test]\n",
    "report = classification_report(y_classes, y_pred)\n",
    "print(report)\n",
    "\n",
    "plt.figure(figsize=(30,30))\n",
    "cm = confusion_matrix(y_classes, y_pred)\n",
    "_=sns.heatmap(cm.T, annot=True, fmt='d', cbar=True, square=True)\n",
    "plt.xlabel('Truth')\n",
    "plt.ylabel('Predicted')"
   ]
  },
  {
   "cell_type": "code",
   "execution_count": null,
   "id": "a7853025-6f75-4e51-bfe8-e8e647b15d88",
   "metadata": {},
   "outputs": [],
   "source": [
    "#model.save('./BDSL_xception_model.hdf5')"
   ]
  }
 ],
 "metadata": {
  "kernelspec": {
   "display_name": "Python 3 (ipykernel)",
   "language": "python",
   "name": "python3"
  },
  "language_info": {
   "codemirror_mode": {
    "name": "ipython",
    "version": 3
   },
   "file_extension": ".py",
   "mimetype": "text/x-python",
   "name": "python",
   "nbconvert_exporter": "python",
   "pygments_lexer": "ipython3",
   "version": "3.8.12"
  }
 },
 "nbformat": 4,
 "nbformat_minor": 5
}
