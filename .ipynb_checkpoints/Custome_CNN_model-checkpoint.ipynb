{
 "cells": [
  {
   "cell_type": "code",
   "execution_count": 1,
   "id": "e4fd8f2d",
   "metadata": {},
   "outputs": [
    {
     "name": "stdout",
     "output_type": "stream",
     "text": [
      "tf version 2.8.0\n",
      "keras version 2.8.0\n",
      "gpu is  available\n"
     ]
    }
   ],
   "source": [
    "from tensorflow.keras.layers import Input, Conv2D, SeparableConv2D\n",
    "from tensorflow.keras.layers import Add, Dense, BatchNormalization, Dropout, Flatten\n",
    "from tensorflow.keras.layers import ReLU, MaxPool2D, GlobalAvgPool2D, LeakyReLU, AveragePooling2D\n",
    "from tensorflow.keras import Model, layers\n",
    "from tensorflow.keras.utils import plot_model\n",
    "\n",
    "from tensorflow.keras.preprocessing.image import ImageDataGenerator \n",
    "from tensorflow.keras.models import Sequential, save_model, load_model\n",
    "import numpy as np\n",
    "from tensorflow.keras.callbacks import TensorBoard\n",
    "import time\n",
    "import matplotlib.pyplot as plt\n",
    "import datetime\n",
    "import cv2\n",
    "import os\n",
    "import tensorflow as tf\n",
    "import tensorflow.keras\n",
    "import cv2\n",
    "from sklearn.model_selection import train_test_split\n",
    "import matplotlib.pyplot as plt\n",
    "from sklearn.metrics import confusion_matrix\n",
    "import seaborn as sns\n",
    "import matplotlib.pyplot as plt\n",
    "from sklearn.metrics import classification_report\n",
    "\n",
    "from pathlib import Path\n",
    "from tensorflow.keras.utils import to_categorical\n",
    "from collections import Counter\n",
    "from plotly.subplots import make_subplots\n",
    "from tensorflow.keras.layers.experimental import preprocessing as ps\n",
    "from tensorflow.keras.callbacks import EarlyStopping\n",
    "from sklearn.model_selection import train_test_split\n",
    "from sklearn.metrics import confusion_matrix\n",
    "import pickle\n",
    "import glob\n",
    "print('tf version', tf.__version__)\n",
    "print('keras version', tf.keras.__version__)\n",
    "print('gpu is ','available' if tf.config.list_physical_devices('GPU') else 'not available')"
   ]
  },
  {
   "cell_type": "markdown",
   "id": "1756d1e1",
   "metadata": {
    "tags": []
   },
   "source": [
    "## Extract Data"
   ]
  },
  {
   "cell_type": "code",
   "execution_count": 2,
   "id": "2135d634",
   "metadata": {},
   "outputs": [],
   "source": [
    "file = open('X_train_128.pkl', 'rb')\n",
    "X_train = pickle.load(file)\n",
    "\n",
    "file = open('y_train_128.pkl', 'rb')\n",
    "y_train = pickle.load(file)\n",
    "\n",
    "file = open('X_test_128.pkl', 'rb')\n",
    "X_test = pickle.load(file)\n",
    "\n",
    "file = open('y_test_128.pkl', 'rb')\n",
    "y_test = pickle.load(file)"
   ]
  },
  {
   "cell_type": "code",
   "execution_count": 3,
   "id": "86273ce5",
   "metadata": {},
   "outputs": [
    {
     "name": "stdout",
     "output_type": "stream",
     "text": [
      "(11774, 128, 128, 3)\n",
      "(11774, 49)\n",
      "(2940, 128, 128, 3)\n",
      "(2940, 49)\n"
     ]
    }
   ],
   "source": [
    "print(X_train.shape)\n",
    "print(y_train.shape)\n",
    "print(X_test.shape)\n",
    "print(y_test.shape)"
   ]
  },
  {
   "cell_type": "markdown",
   "id": "d13b550d-0e73-4629-9410-d488baba9735",
   "metadata": {
    "jp-MarkdownHeadingCollapsed": true,
    "tags": []
   },
   "source": [
    "## Functional Architecture"
   ]
  },
  {
   "cell_type": "code",
   "execution_count": 4,
   "id": "393edc3a",
   "metadata": {},
   "outputs": [],
   "source": [
    "def conv_layer(x, filters, kernel_size, strides=1):\n",
    "    x = Conv2D(filters=filters,\n",
    "               kernel_size=kernel_size, \n",
    "               strides=strides,\n",
    "               padding='same',\n",
    "               use_bias=False)(x)\n",
    "    x = BatchNormalization()(x)\n",
    "    return x"
   ]
  },
  {
   "cell_type": "code",
   "execution_count": 5,
   "id": "4dd5577e",
   "metadata": {},
   "outputs": [],
   "source": [
    "def bslr(x):\n",
    "    x = conv_layer(x, filters=32, kernel_size=3, strides=2)\n",
    "    x = ReLU()(x)\n",
    "    x = conv_layer(x, filters=49, kernel_size=3, strides=2)\n",
    "    x = ReLU()(x)\n",
    "    x = MaxPool2D(pool_size=3, strides=2, padding='same')(x)\n",
    "    \n",
    "    x = conv_layer(x, filters=128, kernel_size=3, strides=2)\n",
    "    x = ReLU()(x)\n",
    "    x = MaxPool2D(pool_size=3, strides=2, padding='same')(x)\n",
    "    \n",
    "    x = conv_layer(x, filters=256, kernel_size=3, strides=2)\n",
    "    x = ReLU()(x)\n",
    "    x = MaxPool2D(pool_size=3, strides=2, padding='same')(x)\n",
    "    \n",
    "    x = conv_layer(x, filters=512, kernel_size=3, strides=2)\n",
    "    x = ReLU()(x)\n",
    "    x = MaxPool2D(pool_size=3, strides=2, padding='same')(x)\n",
    "    \n",
    "    x = conv_layer(x, filters=728, kernel_size=3, strides=2)\n",
    "    x = ReLU()(x)\n",
    "    x = MaxPool2D(pool_size=3, strides=2, padding='same')(x)\n",
    "    \n",
    "    x = conv_layer(x, filters=1024, kernel_size=3, strides=2)\n",
    "    x = ReLU()(x)\n",
    "    x = conv_layer(x, filters=1024, kernel_size=3, strides=2)\n",
    "    x = ReLU()(x)\n",
    "    x = conv_layer(x, filters=1024, kernel_size=3, strides=2)\n",
    "    x = ReLU()(x)\n",
    "    \n",
    "    x = MaxPool2D(pool_size=3, strides=2, padding='same')(x)\n",
    "    \n",
    "    x = conv_layer(x, filters=728, kernel_size=3, strides=2)\n",
    "    x = LeakyReLU()(x)\n",
    "    x = MaxPool2D(pool_size=3, strides=2, padding='same')(x)\n",
    "    \n",
    "    x = conv_layer(x, filters=512, kernel_size=3, strides=2)\n",
    "    x = LeakyReLU()(x)\n",
    "    x = MaxPool2D(pool_size=3, strides=2, padding='same')(x)\n",
    "    \n",
    "    x = Flatten()(x)\n",
    "    x = Dense(256, activation=LeakyReLU())(x)\n",
    "    x = Dense(128, activation=LeakyReLU())(x)\n",
    "    x = Dense(64, activation=LeakyReLU())(x)\n",
    "    x = Dense(49, activation='softmax')(x)\n",
    "    \n",
    "    return x"
   ]
  },
  {
   "cell_type": "code",
   "execution_count": 6,
   "id": "8037c5e9",
   "metadata": {},
   "outputs": [],
   "source": [
    "input = Input(shape=[128, 128, 3])\n",
    "\n",
    "x = bslr(input)\n",
    "\n",
    "base_model = Model(input, x)"
   ]
  },
  {
   "cell_type": "markdown",
   "id": "9267935f",
   "metadata": {
    "tags": []
   },
   "source": [
    "## Sequential Architecture"
   ]
  },
  {
   "cell_type": "markdown",
   "id": "13ff803e",
   "metadata": {
    "tags": []
   },
   "source": [
    "### Our Architecture 92%"
   ]
  },
  {
   "cell_type": "code",
   "execution_count": 7,
   "id": "7045eb08",
   "metadata": {},
   "outputs": [],
   "source": [
    "# Experiment 1 92%\n",
    "model = Sequential()\n",
    "model.add(Conv2D(49,(3,3),activation='relu', input_shape=(128,128,3)))\n",
    "model.add(AveragePooling2D((2,2)))\n",
    "model.add(Conv2D(128,(3,3),activation='relu'))\n",
    "model.add(AveragePooling2D((2,2)))\n",
    "model.add(Conv2D(256,(3,3),activation='relu'))\n",
    "model.add(AveragePooling2D((2,2)))\n",
    "model.add(Conv2D(512,(3,3),activation='relu'))\n",
    "model.add(AveragePooling2D((2,2)))\n",
    "model.add(Conv2D(768,(3,3),activation='relu'))\n",
    "model.add(AveragePooling2D((2,2)))\n",
    "model.add(BatchNormalization())\n",
    "model.add(Dropout(0.5))\n",
    "model.add(Flatten())\n",
    "model.add(Dense(768, activation=LeakyReLU()))\n",
    "model.add(Dense(512, activation=LeakyReLU()))\n",
    "model.add(Dense(256, activation=LeakyReLU()))\n",
    "model.add(Dense(128, activation=LeakyReLU()))\n",
    "model.add(Dense(49, activation='softmax'))"
   ]
  },
  {
   "cell_type": "markdown",
   "id": "974f7362",
   "metadata": {},
   "source": [
    "### Recognition Bangla Sign Language using Convolutional Neural Network 89%"
   ]
  },
  {
   "cell_type": "code",
   "execution_count": 8,
   "id": "cfd96ddc",
   "metadata": {},
   "outputs": [],
   "source": [
    "model_2 = Sequential()\n",
    "model_2.add(Conv2D(32,(5,5),activation='relu', input_shape=(128,128,3)))\n",
    "model_2.add(BatchNormalization())\n",
    "model_2.add(MaxPool2D((2,2)))\n",
    "\n",
    "model_2.add(Conv2D(64,(5,5),activation='relu'))\n",
    "model_2.add(BatchNormalization())\n",
    "model_2.add(MaxPool2D((2,2)))\n",
    "\n",
    "model_2.add(Conv2D(128,(3,3),activation='relu'))\n",
    "model_2.add(BatchNormalization())\n",
    "model_2.add(MaxPool2D((2,2)))\n",
    "\n",
    "model_2.add(Conv2D(256,(3,3),activation='relu'))\n",
    "model_2.add(BatchNormalization())\n",
    "model_2.add(MaxPool2D((2,2)))\n",
    "\n",
    "model_2.add(Conv2D(384,(3,3),activation='relu'))\n",
    "model_2.add(BatchNormalization())\n",
    "\n",
    "model_2.add(Conv2D(512,(3,3),activation='relu'))\n",
    "model_2.add(BatchNormalization())\n",
    "\n",
    "model_2.add(GlobalAvgPool2D())\n",
    "model_2.add(Dense(84))\n",
    "model_2.add(Dropout(0.5))\n",
    "model_2.add(Dense(49, activation='softmax'))"
   ]
  },
  {
   "cell_type": "markdown",
   "id": "bbc1b8a0",
   "metadata": {},
   "source": [
    "### Image-based Bengali Sign Language Alphabet Recognition for Deaf and Dumb Community"
   ]
  },
  {
   "cell_type": "code",
   "execution_count": null,
   "id": "e930f821",
   "metadata": {},
   "outputs": [],
   "source": [
    "model_3 = Sequential()\n",
    "model_3.add(Conv2D(64,(3,3), input_shape=(128,128,3)))\n",
    "model_3.add(MaxPool2D((2,2)))\n",
    "\n",
    "model_3.add(Conv2D(128,(3,3)))\n",
    "model_3.add(MaxPool2D((2,2)))\n",
    "\n",
    "model_3.add(Conv2D(256,(3,3)))\n",
    "model_3.add(MaxPool2D((2,2)))\n",
    "\n",
    "model_3.add(Conv2D(512,(3,3)))\n",
    "model_3.add(MaxPool2D((2,2)))\n",
    "\n",
    "model_3.add(Conv2D(512,(3,3)))\n",
    "\n",
    "model_3.add(Dropout(0.3))\n",
    "model_3.add(GlobalAvgPool2D())\n",
    "model_3.add(Dense(256, activation='relu'))\n",
    "model_3.add(Dropout(0.3))\n",
    "model_3.add(Dense(49, activation='softmax'))"
   ]
  },
  {
   "cell_type": "code",
   "execution_count": 9,
   "id": "cb6787c8",
   "metadata": {},
   "outputs": [],
   "source": [
    "num_of_class = 49\n",
    "epoch = 100\n",
    "\n",
    "# model = Sequential()\n",
    "# model.add(base_model)\n",
    "\n",
    "model_2.compile(loss ='categorical_crossentropy', optimizer ='rmsprop', metrics =['accuracy'])"
   ]
  },
  {
   "cell_type": "code",
   "execution_count": 10,
   "id": "be7dcb87",
   "metadata": {},
   "outputs": [],
   "source": [
    "# #optimizer = tf.keras.optimizers.RMSprop(learning_rate=2e-5)\n",
    "\n",
    "# model.compile(optimizer='rmsprop', loss='categorical_crossentropy', metrics=['accuracy'])"
   ]
  },
  {
   "cell_type": "markdown",
   "id": "0a45985a-5b9a-43b4-b932-ec19e64e4975",
   "metadata": {},
   "source": [
    "## Model Preparation"
   ]
  },
  {
   "cell_type": "code",
   "execution_count": 11,
   "id": "193b4df9",
   "metadata": {},
   "outputs": [
    {
     "name": "stdout",
     "output_type": "stream",
     "text": [
      "Model: \"sequential_1\"\n",
      "_________________________________________________________________\n",
      " Layer (type)                Output Shape              Param #   \n",
      "=================================================================\n",
      " conv2d_16 (Conv2D)          (None, 124, 124, 32)      2432      \n",
      "                                                                 \n",
      " batch_normalization_12 (Bat  (None, 124, 124, 32)     128       \n",
      " chNormalization)                                                \n",
      "                                                                 \n",
      " max_pooling2d_8 (MaxPooling  (None, 62, 62, 32)       0         \n",
      " 2D)                                                             \n",
      "                                                                 \n",
      " conv2d_17 (Conv2D)          (None, 58, 58, 64)        51264     \n",
      "                                                                 \n",
      " batch_normalization_13 (Bat  (None, 58, 58, 64)       256       \n",
      " chNormalization)                                                \n",
      "                                                                 \n",
      " max_pooling2d_9 (MaxPooling  (None, 29, 29, 64)       0         \n",
      " 2D)                                                             \n",
      "                                                                 \n",
      " conv2d_18 (Conv2D)          (None, 27, 27, 128)       73856     \n",
      "                                                                 \n",
      " batch_normalization_14 (Bat  (None, 27, 27, 128)      512       \n",
      " chNormalization)                                                \n",
      "                                                                 \n",
      " max_pooling2d_10 (MaxPoolin  (None, 13, 13, 128)      0         \n",
      " g2D)                                                            \n",
      "                                                                 \n",
      " conv2d_19 (Conv2D)          (None, 11, 11, 256)       295168    \n",
      "                                                                 \n",
      " batch_normalization_15 (Bat  (None, 11, 11, 256)      1024      \n",
      " chNormalization)                                                \n",
      "                                                                 \n",
      " max_pooling2d_11 (MaxPoolin  (None, 5, 5, 256)        0         \n",
      " g2D)                                                            \n",
      "                                                                 \n",
      " conv2d_20 (Conv2D)          (None, 3, 3, 384)         885120    \n",
      "                                                                 \n",
      " batch_normalization_16 (Bat  (None, 3, 3, 384)        1536      \n",
      " chNormalization)                                                \n",
      "                                                                 \n",
      " conv2d_21 (Conv2D)          (None, 1, 1, 512)         1769984   \n",
      "                                                                 \n",
      " batch_normalization_17 (Bat  (None, 1, 1, 512)        2048      \n",
      " chNormalization)                                                \n",
      "                                                                 \n",
      " global_average_pooling2d (G  (None, 512)              0         \n",
      " lobalAveragePooling2D)                                          \n",
      "                                                                 \n",
      " dense_9 (Dense)             (None, 84)                43092     \n",
      "                                                                 \n",
      " dropout_1 (Dropout)         (None, 84)                0         \n",
      "                                                                 \n",
      " dense_10 (Dense)            (None, 49)                4165      \n",
      "                                                                 \n",
      "=================================================================\n",
      "Total params: 3,130,585\n",
      "Trainable params: 3,127,833\n",
      "Non-trainable params: 2,752\n",
      "_________________________________________________________________\n"
     ]
    }
   ],
   "source": [
    "model_2.summary()"
   ]
  },
  {
   "cell_type": "code",
   "execution_count": null,
   "id": "3d63b877",
   "metadata": {},
   "outputs": [
    {
     "name": "stdout",
     "output_type": "stream",
     "text": [
      "Epoch 1/100\n",
      "203/203 [==============================] - 20s 71ms/step - loss: 2.6020 - accuracy: 0.3886 - val_loss: 5.6880 - val_accuracy: 0.0595\n",
      "Epoch 2/100\n",
      "203/203 [==============================] - 13s 64ms/step - loss: 0.8148 - accuracy: 0.7703 - val_loss: 3.1798 - val_accuracy: 0.4779\n",
      "Epoch 3/100\n",
      "203/203 [==============================] - 13s 64ms/step - loss: 0.4188 - accuracy: 0.8771 - val_loss: 1.5967 - val_accuracy: 0.6432\n",
      "Epoch 4/100\n",
      "203/203 [==============================] - 13s 64ms/step - loss: 0.2498 - accuracy: 0.9256 - val_loss: 1.2763 - val_accuracy: 0.7017\n",
      "Epoch 5/100\n",
      "203/203 [==============================] - 13s 64ms/step - loss: 0.1703 - accuracy: 0.9476 - val_loss: 0.8563 - val_accuracy: 0.7653\n",
      "Epoch 6/100\n",
      "203/203 [==============================] - 13s 64ms/step - loss: 0.1257 - accuracy: 0.9619 - val_loss: 0.7756 - val_accuracy: 0.7932\n",
      "Epoch 7/100\n",
      "203/203 [==============================] - 13s 64ms/step - loss: 0.0999 - accuracy: 0.9733 - val_loss: 0.8165 - val_accuracy: 0.7949\n",
      "Epoch 8/100\n",
      "203/203 [==============================] - 13s 66ms/step - loss: 0.0862 - accuracy: 0.9741 - val_loss: 1.2185 - val_accuracy: 0.7493\n",
      "Epoch 9/100\n",
      "203/203 [==============================] - 13s 65ms/step - loss: 0.0773 - accuracy: 0.9768 - val_loss: 1.3109 - val_accuracy: 0.6983\n",
      "Epoch 10/100\n",
      "203/203 [==============================] - 13s 65ms/step - loss: 0.0555 - accuracy: 0.9833 - val_loss: 0.8834 - val_accuracy: 0.8173\n",
      "Epoch 11/100\n",
      "203/203 [==============================] - 13s 64ms/step - loss: 0.0570 - accuracy: 0.9834 - val_loss: 1.0469 - val_accuracy: 0.7173\n",
      "Epoch 12/100\n",
      "203/203 [==============================] - 13s 64ms/step - loss: 0.0431 - accuracy: 0.9876 - val_loss: 1.0133 - val_accuracy: 0.7639\n",
      "Epoch 13/100\n",
      "203/203 [==============================] - 13s 63ms/step - loss: 0.0508 - accuracy: 0.9859 - val_loss: 0.8936 - val_accuracy: 0.7939\n",
      "Epoch 14/100\n",
      "203/203 [==============================] - 13s 64ms/step - loss: 0.0415 - accuracy: 0.9868 - val_loss: 0.5848 - val_accuracy: 0.8684\n",
      "Epoch 15/100\n",
      "203/203 [==============================] - 13s 64ms/step - loss: 0.0401 - accuracy: 0.9880 - val_loss: 0.6601 - val_accuracy: 0.8663\n",
      "Epoch 16/100\n",
      "203/203 [==============================] - 13s 64ms/step - loss: 0.0381 - accuracy: 0.9886 - val_loss: 1.0703 - val_accuracy: 0.7871\n",
      "Epoch 17/100\n",
      "203/203 [==============================] - 13s 64ms/step - loss: 0.0384 - accuracy: 0.9901 - val_loss: 0.9450 - val_accuracy: 0.8160\n",
      "Epoch 18/100\n",
      "203/203 [==============================] - 13s 64ms/step - loss: 0.0328 - accuracy: 0.9916 - val_loss: 0.5988 - val_accuracy: 0.8844\n",
      "Epoch 19/100\n",
      "203/203 [==============================] - 13s 64ms/step - loss: 0.0279 - accuracy: 0.9929 - val_loss: 0.7150 - val_accuracy: 0.8697\n",
      "Epoch 20/100\n",
      "203/203 [==============================] - 13s 64ms/step - loss: 0.0355 - accuracy: 0.9899 - val_loss: 0.6777 - val_accuracy: 0.8673\n",
      "Epoch 21/100\n",
      "203/203 [==============================] - 13s 64ms/step - loss: 0.0319 - accuracy: 0.9920 - val_loss: 0.7829 - val_accuracy: 0.8303\n",
      "Epoch 22/100\n",
      "203/203 [==============================] - 13s 64ms/step - loss: 0.0216 - accuracy: 0.9939 - val_loss: 1.4670 - val_accuracy: 0.7289\n",
      "Epoch 23/100\n",
      "203/203 [==============================] - 13s 64ms/step - loss: 0.0200 - accuracy: 0.9935 - val_loss: 0.8602 - val_accuracy: 0.8150\n",
      "Epoch 24/100\n",
      "203/203 [==============================] - 13s 64ms/step - loss: 0.0272 - accuracy: 0.9935 - val_loss: 2.5192 - val_accuracy: 0.4531\n",
      "Epoch 25/100\n",
      "203/203 [==============================] - 13s 64ms/step - loss: 0.0226 - accuracy: 0.9934 - val_loss: 1.0881 - val_accuracy: 0.8150\n",
      "Epoch 26/100\n",
      "203/203 [==============================] - 13s 64ms/step - loss: 0.0183 - accuracy: 0.9947 - val_loss: 0.6256 - val_accuracy: 0.8823\n",
      "Epoch 27/100\n",
      "203/203 [==============================] - 13s 64ms/step - loss: 0.0266 - accuracy: 0.9920 - val_loss: 1.0766 - val_accuracy: 0.7565\n",
      "Epoch 28/100\n",
      "179/203 [=========================>....] - ETA: 1s - loss: 0.0271 - accuracy: 0.9927"
     ]
    }
   ],
   "source": [
    "H = model_2.fit(\n",
    "    x=X_train,\n",
    "    y=y_train,\n",
    "    batch_size=58,\n",
    "    epochs=epoch,\n",
    "    validation_data=(X_test, y_test))"
   ]
  },
  {
   "cell_type": "markdown",
   "id": "7bb8a624-62de-42c5-af7f-b7d0e4edd82b",
   "metadata": {},
   "source": [
    "## Visualization"
   ]
  },
  {
   "cell_type": "code",
   "execution_count": null,
   "id": "eb6325be-7d78-4ac9-98e9-d3310cbae9de",
   "metadata": {},
   "outputs": [],
   "source": [
    "# Plot training & validation accuracy values\n",
    "fig, ax = plt.subplots(1,1)\n",
    "plt.plot(H.history[\"accuracy\"])\n",
    "plt.plot(H.history['val_accuracy'])\n",
    "plt.title('Model accuracy')\n",
    "plt.ylabel('Accuracy')\n",
    "plt.xlabel('Epoch')\n",
    "plt.legend(['Train', 'Test'], loc='upper left')\n",
    "plt.show()"
   ]
  },
  {
   "cell_type": "code",
   "execution_count": null,
   "id": "f3b239d8-084e-4e2b-98ba-1c77e9ba865d",
   "metadata": {},
   "outputs": [],
   "source": [
    "# Plot training & validation loss values\n",
    "fig, ax = plt.subplots(1,1)\n",
    "plt.plot(H.history['loss'])\n",
    "plt.plot(H.history['val_loss'])\n",
    "plt.title('Model loss')\n",
    "plt.ylabel('Loss')\n",
    "plt.xlabel('Epoch')\n",
    "plt.legend(['Train', 'Test'], loc='upper left')\n",
    "plt.show()"
   ]
  },
  {
   "cell_type": "code",
   "execution_count": null,
   "id": "e1a8d895",
   "metadata": {},
   "outputs": [],
   "source": [
    "y_pred = np.argmax(model_2.predict(X_test,batch_size=1), axis=1) \n",
    "\n",
    "print('Classification Report')\n",
    "y_classes = [np.argmax(y, axis=None, out=None) for y in y_test]\n",
    "report = classification_report(y_classes, y_pred)\n",
    "print(report)\n",
    "\n",
    "plt.figure(figsize=(30,30))\n",
    "cm = confusion_matrix(y_classes, y_pred)\n",
    "_=sns.heatmap(cm.T, annot=True, fmt='d', cbar=True, square=True)\n",
    "plt.xlabel('Truth')\n",
    "plt.ylabel('Predicted')"
   ]
  }
 ],
 "metadata": {
  "kernelspec": {
   "display_name": "Python 3 (ipykernel)",
   "language": "python",
   "name": "python3"
  },
  "language_info": {
   "codemirror_mode": {
    "name": "ipython",
    "version": 3
   },
   "file_extension": ".py",
   "mimetype": "text/x-python",
   "name": "python",
   "nbconvert_exporter": "python",
   "pygments_lexer": "ipython3",
   "version": "3.8.12"
  }
 },
 "nbformat": 4,
 "nbformat_minor": 5
}
