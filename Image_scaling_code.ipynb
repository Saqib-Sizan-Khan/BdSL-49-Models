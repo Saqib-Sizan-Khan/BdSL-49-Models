{
 "cells": [
  {
   "cell_type": "code",
   "execution_count": 1,
   "id": "27db133a",
   "metadata": {},
   "outputs": [],
   "source": [
    "from __future__ import print_function\n",
    "\n",
    "import tensorflow as tf\n",
    "from keras.utils import np_utils\n",
    "from tensorflow.keras import applications\n",
    "import cv2 \n",
    "from os import listdir\n",
    "import numpy as np\n",
    "from tensorflow.keras.models import Sequential\n",
    "from tensorflow.keras.layers import Input\n",
    "from tensorflow.keras.layers import Dense, Conv2D, MaxPooling2D, Dropout, Flatten, Activation, AveragePooling2D,BatchNormalization\n",
    "from tensorflow.keras.models import Model\n",
    "import pywt\n",
    "import numpy as np\n",
    "import pandas as pd\n",
    "import matplotlib.pyplot as plt\n",
    "import plotly.graph_objects as go\n",
    "import plotly.express as px\n",
    "import random\n",
    "import seaborn as sns\n",
    "import cv2\n",
    "import os\n",
    "\n",
    "from pathlib import Path\n",
    "from tensorflow.keras.utils import to_categorical\n",
    "from collections import Counter\n",
    "from plotly.subplots import make_subplots\n",
    "from tensorflow.keras.layers.experimental import preprocessing as ps\n",
    "from tensorflow.keras.callbacks import EarlyStopping\n",
    "from sklearn.model_selection import train_test_split\n",
    "from sklearn.metrics import confusion_matrix\n",
    "import pickle\n",
    "import glob"
   ]
  },
  {
   "cell_type": "code",
   "execution_count": 2,
   "id": "e22856ca",
   "metadata": {},
   "outputs": [],
   "source": [
    "tr_path = 'E://Sizan Research work//bdsl recognition dataset//recognition//train//'\n",
    "tst_path = 'E://Sizan Research work//bdsl recognition dataset//recognition//test//'\n",
    "\n",
    "tr_path=glob.glob(tr_path+'*')\n",
    "tst_path=glob.glob(tst_path+'*')"
   ]
  },
  {
   "cell_type": "code",
   "execution_count": 3,
   "id": "5011a930",
   "metadata": {},
   "outputs": [
    {
     "ename": "MemoryError",
     "evalue": "Unable to allocate 23.5 GiB for an array with shape (11774, 299, 299, 3) and data type float64",
     "output_type": "error",
     "traceback": [
      "\u001b[1;31m---------------------------------------------------------------------------\u001b[0m",
      "\u001b[1;31mMemoryError\u001b[0m                               Traceback (most recent call last)",
      "\u001b[1;32m~\\AppData\\Local\\Temp/ipykernel_6028/161970902.py\u001b[0m in \u001b[0;36m<module>\u001b[1;34m\u001b[0m\n\u001b[0;32m     12\u001b[0m \u001b[1;33m\u001b[0m\u001b[0m\n\u001b[0;32m     13\u001b[0m \u001b[1;33m\u001b[0m\u001b[0m\n\u001b[1;32m---> 14\u001b[1;33m \u001b[0mX_train\u001b[0m\u001b[1;33m,\u001b[0m \u001b[0my_train\u001b[0m \u001b[1;33m=\u001b[0m \u001b[0mnp\u001b[0m\u001b[1;33m.\u001b[0m\u001b[0marray\u001b[0m\u001b[1;33m(\u001b[0m\u001b[0mX_train\u001b[0m\u001b[1;33m)\u001b[0m\u001b[1;33m,\u001b[0m \u001b[0mnp\u001b[0m\u001b[1;33m.\u001b[0m\u001b[0marray\u001b[0m\u001b[1;33m(\u001b[0m\u001b[0my_train\u001b[0m\u001b[1;33m)\u001b[0m\u001b[1;33m\u001b[0m\u001b[1;33m\u001b[0m\u001b[0m\n\u001b[0m\u001b[0;32m     15\u001b[0m \u001b[1;33m\u001b[0m\u001b[0m\n\u001b[0;32m     16\u001b[0m \u001b[1;33m\u001b[0m\u001b[0m\n",
      "\u001b[1;31mMemoryError\u001b[0m: Unable to allocate 23.5 GiB for an array with shape (11774, 299, 299, 3) and data type float64"
     ]
    }
   ],
   "source": [
    "X_train = []\n",
    "y_train = []\n",
    "for tr in tr_path:\n",
    "    label = to_categorical(tr.split('\\\\')[-1],49)\n",
    "    images = glob.glob(tr+'//*')\n",
    "    for img in images:\n",
    "        img2 = cv2.imread(img)\n",
    "        img2 = cv2.resize(img2, (299,299))\n",
    "        img2 = img2/255.0\n",
    "        X_train.append(img2)\n",
    "        y_train.append(label)\n",
    "    \n",
    "    \n",
    "X_train, y_train = np.array(X_train), np.array(y_train)  \n",
    "\n",
    "\n",
    "\n",
    "file = open('X_train_299.pkl', 'wb')\n",
    "pickle.dump(X_train, file)\n",
    "file.close()\n",
    "\n",
    "file = open('y_train_299.pkl', 'wb')\n",
    "pickle.dump(y_train, file)\n",
    "file.close()"
   ]
  },
  {
   "cell_type": "code",
   "execution_count": null,
   "id": "5fd96799",
   "metadata": {},
   "outputs": [],
   "source": [
    "X_test = []\n",
    "y_test = []\n",
    "for tr in tst_path:\n",
    "    label = to_categorical(tr.split('\\\\')[-1],49)\n",
    "    images = glob.glob(tr+'//*')\n",
    "    for img in images:\n",
    "        img2 = cv2.imread(img)\n",
    "        img2 = cv2.resize(img2, (299,299))\n",
    "        img2 = img2/255.0\n",
    "        X_test.append(img2)\n",
    "        y_test.append(label)\n",
    "    \n",
    "    \n",
    "X_test, y_test = np.array(X_test), np.array(y_test)  \n",
    "\n",
    "file = open('X_test_299.pkl', 'wb')\n",
    "pickle.dump(X_test, file)\n",
    "file.close()\n",
    "\n",
    "file = open('y_test_299.pkl', 'wb')\n",
    "pickle.dump(y_test, file)\n",
    "file.close()"
   ]
  },
  {
   "cell_type": "code",
   "execution_count": null,
   "id": "ca2ee6a0-8707-4539-ad7d-f597a082ce9a",
   "metadata": {},
   "outputs": [],
   "source": [
    "print('Data input done')"
   ]
  }
 ],
 "metadata": {
  "kernelspec": {
   "display_name": "Python 3 (ipykernel)",
   "language": "python",
   "name": "python3"
  },
  "language_info": {
   "codemirror_mode": {
    "name": "ipython",
    "version": 3
   },
   "file_extension": ".py",
   "mimetype": "text/x-python",
   "name": "python",
   "nbconvert_exporter": "python",
   "pygments_lexer": "ipython3",
   "version": "3.9.7"
  }
 },
 "nbformat": 4,
 "nbformat_minor": 5
}
